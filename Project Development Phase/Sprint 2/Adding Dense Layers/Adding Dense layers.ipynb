{
 "cells": [
  {
   "cell_type": "code",
   "execution_count": 1,
   "id": "dbc4ebf9",
   "metadata": {},
   "outputs": [],
   "source": [
    "import keras\n",
    "from keras.preprocessing.image import ImageDataGenerator\n"
   ]
  },
  {
   "cell_type": "code",
   "execution_count": 2,
   "id": "2c06cb4e",
   "metadata": {},
   "outputs": [],
   "source": [
    "train_datagen=ImageDataGenerator(rescale=1./255,shear_range=0.2,rotation_range=180,zoom_range=0.2,horizontal_flip=True)\n",
    "test_datagen=ImageDataGenerator(rescale=1./255)"
   ]
  },
  {
   "cell_type": "code",
   "execution_count": 3,
   "id": "f64041ad",
   "metadata": {},
   "outputs": [
    {
     "name": "stdout",
     "output_type": "stream",
     "text": [
      "Found 436 images belonging to 2 classes.\n"
     ]
    }
   ],
   "source": [
    "##Applying ImageDataGenerator Functionality to trainset\n",
    "x_train=train_datagen.flow_from_directory(r'C:\\archive\\Dataset\\Dataset\\train_set',target_size=(128,128),batch_size=32,class_mode='binary')"
   ]
  },
  {
   "cell_type": "code",
   "execution_count": 4,
   "id": "e52ab82f",
   "metadata": {},
   "outputs": [
    {
     "name": "stdout",
     "output_type": "stream",
     "text": [
      "Found 121 images belonging to 2 classes.\n"
     ]
    }
   ],
   "source": [
    "##Applying ImageDataGenerator Functionality to testset\n",
    "x_test=test_datagen.flow_from_directory(r'C:\\archive\\Dataset\\Dataset\\test_set',target_size=(128,128),batch_size=32,class_mode='binary')"
   ]
  },
  {
   "cell_type": "code",
   "execution_count": 7,
   "id": "33658155",
   "metadata": {},
   "outputs": [],
   "source": [
    "##Import model building libraries\n",
    "\n",
    "#To Define linear initialisation import Sequential\n",
    "\n",
    "from keras.models import Sequential\n",
    "\n",
    "#To add layers import Dense\n",
    "\n",
    "from keras.layers import Dense\n",
    "\n",
    "#To create Convolution kernel import Convolution 2D\n",
    "\n",
    "from keras.layers import Convolution2D\n",
    "\n",
    "#import maxpooling layers\n",
    "\n",
    "from keras.layers import MaxPooling2D\n",
    "\n",
    "#import flatten Layer\n",
    "\n",
    "from keras.layers import Flatten\n",
    "\n",
    "import warnings\n",
    "warnings.filterwarnings('ignore')"
   ]
  },
  {
   "cell_type": "code",
   "execution_count": 8,
   "id": "d69757cc",
   "metadata": {},
   "outputs": [],
   "source": [
    "#Initializing the Model\n",
    "model=Sequential()"
   ]
  },
  {
   "cell_type": "code",
   "execution_count": 9,
   "id": "a09e8998",
   "metadata": {},
   "outputs": [],
   "source": [
    "##adding CNN layers\n",
    "model.add(Convolution2D(32,(3,3),input_shape=(128,128,3),activation='relu'))\n",
    "\n",
    "##adding maxpooling layer\n",
    "model.add(MaxPooling2D(pool_size=(2,2)))\n",
    "\n",
    "##adding flatten Layer\n",
    "model.add(Flatten())"
   ]
  },
  {
   "cell_type": "code",
   "execution_count": 10,
   "id": "857e8abf",
   "metadata": {},
   "outputs": [],
   "source": [
    "##add hidden layer\n",
    "\n",
    "model.add(Dense(150,activation='relu'))\n",
    "\n",
    "##add output layer\n",
    "\n",
    "model.add(Dense(1,activation='sigmoid'))"
   ]
  },
  {
   "cell_type": "code",
   "execution_count": null,
   "id": "223ceea8",
   "metadata": {},
   "outputs": [],
   "source": []
  }
 ],
 "metadata": {
  "kernelspec": {
   "display_name": "Python 3 (ipykernel)",
   "language": "python",
   "name": "python3"
  },
  "language_info": {
   "codemirror_mode": {
    "name": "ipython",
    "version": 3
   },
   "file_extension": ".py",
   "mimetype": "text/x-python",
   "name": "python",
   "nbconvert_exporter": "python",
   "pygments_lexer": "ipython3",
   "version": "3.9.13"
  }
 },
 "nbformat": 4,
 "nbformat_minor": 5
}
