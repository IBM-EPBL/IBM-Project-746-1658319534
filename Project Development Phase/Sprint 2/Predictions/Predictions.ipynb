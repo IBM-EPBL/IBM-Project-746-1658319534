{
 "cells": [
  {
   "cell_type": "code",
   "execution_count": 3,
   "id": "27055821",
   "metadata": {},
   "outputs": [],
   "source": [
    "#prediction\n",
    " \n",
    "from keras.models import load_model\n",
    "from tensorflow.keras.preprocessing import image\n",
    "import numpy as np\n",
    "import os\n",
    "os.sys.path\n",
    "import cv\n"
   ]
  },
  {
   "cell_type": "code",
   "execution_count": 4,
   "id": "6000b760",
   "metadata": {},
   "outputs": [],
   "source": [
    "##loading the model\n",
    "model=load_model('forest2.h5')\n",
    "\n"
   ]
  },
  {
   "cell_type": "code",
   "execution_count": 5,
   "id": "c7a6d667",
   "metadata": {},
   "outputs": [],
   "source": [
    "def predictImage(filename):\n",
    "    \n",
    "    img1 = image.load_img(filename,target_size=(128,128))\n",
    "    Y = image.img_to_array(img1)\n",
    "    X = np.expand_dims(Y,axis=0)\n",
    "    val = model.predict(X)\n",
    "    print(val)\n",
    "    if val == 1:\n",
    "        print(\" fire\")\n",
    "    elif val == 0:\n",
    "        print(\"no fire\")\n"
   ]
  },
  {
   "cell_type": "code",
   "execution_count": 6,
   "id": "5c424ca1",
   "metadata": {},
   "outputs": [
    {
     "name": "stdout",
     "output_type": "stream",
     "text": [
      "1/1 [==============================] - 0s 210ms/step\n",
      "[[1.]]\n",
      " fire\n"
     ]
    }
   ],
   "source": [
    "predictImage(r'C:\\archive\\Dataset\\Dataset\\test_set\\with fire\\b2683a16be44f230a90f50bb944315e994b43042e43df798bb4feaf27e0f8bc8.jpg')"
   ]
  },
  {
   "cell_type": "code",
   "execution_count": null,
   "id": "7abfc2c6",
   "metadata": {},
   "outputs": [],
   "source": []
  },
  {
   "cell_type": "code",
   "execution_count": null,
   "id": "550fc008",
   "metadata": {},
   "outputs": [],
   "source": []
  }
 ],
 "metadata": {
  "kernelspec": {
   "display_name": "Python 3 (ipykernel)",
   "language": "python",
   "name": "python3"
  },
  "language_info": {
   "codemirror_mode": {
    "name": "ipython",
    "version": 3
   },
   "file_extension": ".py",
   "mimetype": "text/x-python",
   "name": "python",
   "nbconvert_exporter": "python",
   "pygments_lexer": "ipython3",
   "version": "3.9.13"
  }
 },
 "nbformat": 4,
 "nbformat_minor": 5
}
