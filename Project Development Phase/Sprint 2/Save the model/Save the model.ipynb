{
 "cells": [
  {
   "cell_type": "code",
   "execution_count": 2,
   "id": "f270408e",
   "metadata": {},
   "outputs": [],
   "source": [
    "import keras\n",
    "from keras.preprocessing.image import ImageDataGenerator\n"
   ]
  },
  {
   "cell_type": "code",
   "execution_count": 3,
   "id": "7ed26fb9",
   "metadata": {},
   "outputs": [],
   "source": [
    "train_datagen=ImageDataGenerator(rescale=1./255,shear_range=0.2,rotation_range=180,zoom_range=0.2,horizontal_flip=True)\n",
    "test_datagen=ImageDataGenerator(rescale=1./255)"
   ]
  },
  {
   "cell_type": "code",
   "execution_count": 4,
   "id": "f15631e9",
   "metadata": {},
   "outputs": [
    {
     "name": "stdout",
     "output_type": "stream",
     "text": [
      "Found 436 images belonging to 2 classes.\n"
     ]
    }
   ],
   "source": [
    "##Applying ImageDataGenerator Functionality to trainset\n",
    "x_train=train_datagen.flow_from_directory(r'C:\\archive\\Dataset\\Dataset\\train_set',target_size=(128,128),batch_size=32,class_mode='binary')"
   ]
  },
  {
   "cell_type": "code",
   "execution_count": 5,
   "id": "35c635ca",
   "metadata": {},
   "outputs": [
    {
     "name": "stdout",
     "output_type": "stream",
     "text": [
      "Found 121 images belonging to 2 classes.\n"
     ]
    }
   ],
   "source": [
    "##Applying ImageDataGenerator Functionality to testset\n",
    "x_test=test_datagen.flow_from_directory(r'C:\\archive\\Dataset\\Dataset\\test_set',target_size=(128,128),batch_size=32,class_mode='binary')"
   ]
  },
  {
   "cell_type": "code",
   "execution_count": 6,
   "id": "4f2fd24c",
   "metadata": {},
   "outputs": [],
   "source": [
    "##Import model building libraries\n",
    "\n",
    "#To Define linear initialisation import Sequential\n",
    "\n",
    "from keras.models import Sequential\n",
    "\n",
    "#To add layers import Dense\n",
    "\n",
    "from keras.layers import Dense\n",
    "\n",
    "#To create Convolution kernel import Convolution 2D\n",
    "\n",
    "from keras.layers import Convolution2D\n",
    "\n",
    "#import maxpooling layers\n",
    "\n",
    "from keras.layers import MaxPooling2D\n",
    "\n",
    "#import flatten Layer\n",
    "\n",
    "from keras.layers import Flatten\n",
    "\n",
    "import warnings\n",
    "warnings.filterwarnings('ignore')"
   ]
  },
  {
   "cell_type": "code",
   "execution_count": 7,
   "id": "c1cfc9df",
   "metadata": {},
   "outputs": [],
   "source": [
    "#Initializing the Model\n",
    "model=Sequential()"
   ]
  },
  {
   "cell_type": "code",
   "execution_count": 8,
   "id": "5df16aa4",
   "metadata": {},
   "outputs": [],
   "source": [
    "##adding CNN layers\n",
    "model.add(Convolution2D(32,(3,3),input_shape=(128,128,3),activation='relu'))\n",
    "\n",
    "##adding maxpooling layer\n",
    "model.add(MaxPooling2D(pool_size=(2,2)))\n",
    "\n",
    "##adding flatten Layer\n",
    "model.add(Flatten())"
   ]
  },
  {
   "cell_type": "code",
   "execution_count": 9,
   "id": "b6fbdd94",
   "metadata": {},
   "outputs": [],
   "source": [
    "##add hidden layer\n",
    "\n",
    "model.add(Dense(150,activation='relu'))\n",
    "\n",
    "##add output layer\n",
    "\n",
    "model.add(Dense(1,activation='sigmoid'))"
   ]
  },
  {
   "cell_type": "code",
   "execution_count": 10,
   "id": "dd6237d9",
   "metadata": {},
   "outputs": [],
   "source": [
    "#Configure the Learning Process\n",
    "\n",
    "model.compile(loss=\"binary_crossentropy\",optimizer=\"adam\",metrics=['accuracy'])"
   ]
  },
  {
   "cell_type": "code",
   "execution_count": 11,
   "id": "06aa9218",
   "metadata": {},
   "outputs": [
    {
     "name": "stdout",
     "output_type": "stream",
     "text": [
      "Epoch 1/10\n",
      "14/14 [==============================] - 30s 2s/step - loss: 5.1926 - accuracy: 0.6583 - val_loss: 0.4041 - val_accuracy: 0.9256\n",
      "Epoch 2/10\n",
      "14/14 [==============================] - 23s 2s/step - loss: 0.9277 - accuracy: 0.8005 - val_loss: 0.2427 - val_accuracy: 0.9174\n",
      "Epoch 3/10\n",
      "14/14 [==============================] - 23s 2s/step - loss: 0.3663 - accuracy: 0.8440 - val_loss: 0.3428 - val_accuracy: 0.8926\n",
      "Epoch 4/10\n",
      "14/14 [==============================] - 23s 2s/step - loss: 0.2940 - accuracy: 0.8945 - val_loss: 0.1374 - val_accuracy: 0.9504\n",
      "Epoch 5/10\n",
      "14/14 [==============================] - 22s 2s/step - loss: 0.2062 - accuracy: 0.9128 - val_loss: 0.0697 - val_accuracy: 0.9752\n",
      "Epoch 6/10\n",
      "14/14 [==============================] - 23s 2s/step - loss: 0.1885 - accuracy: 0.9312 - val_loss: 0.0992 - val_accuracy: 0.9669\n",
      "Epoch 7/10\n",
      "14/14 [==============================] - 23s 2s/step - loss: 0.1875 - accuracy: 0.9197 - val_loss: 0.1010 - val_accuracy: 0.9421\n",
      "Epoch 8/10\n",
      "14/14 [==============================] - 24s 2s/step - loss: 0.2118 - accuracy: 0.9128 - val_loss: 0.1005 - val_accuracy: 0.9752\n",
      "Epoch 9/10\n",
      "14/14 [==============================] - 25s 2s/step - loss: 0.2049 - accuracy: 0.9197 - val_loss: 0.1391 - val_accuracy: 0.9421\n",
      "Epoch 10/10\n",
      "14/14 [==============================] - 24s 2s/step - loss: 0.1776 - accuracy: 0.9220 - val_loss: 0.0633 - val_accuracy: 0.9669\n"
     ]
    },
    {
     "data": {
      "text/plain": [
       "<keras.callbacks.History at 0x23d006dddf0>"
      ]
     },
     "execution_count": 11,
     "metadata": {},
     "output_type": "execute_result"
    }
   ],
   "source": [
    "##Training the model\n",
    "model.fit_generator(x_train,steps_per_epoch=14,epochs=10,validation_data=x_test,validation_steps=4)"
   ]
  },
  {
   "cell_type": "code",
   "execution_count": 13,
   "id": "91ea7b4f",
   "metadata": {},
   "outputs": [],
   "source": [
    "#save the model\n",
    "\n",
    "model.save(\"forest2.h5\")"
   ]
  },
  {
   "cell_type": "code",
   "execution_count": null,
   "id": "79c8ea39",
   "metadata": {},
   "outputs": [],
   "source": []
  }
 ],
 "metadata": {
  "kernelspec": {
   "display_name": "Python 3 (ipykernel)",
   "language": "python",
   "name": "python3"
  },
  "language_info": {
   "codemirror_mode": {
    "name": "ipython",
    "version": 3
   },
   "file_extension": ".py",
   "mimetype": "text/x-python",
   "name": "python",
   "nbconvert_exporter": "python",
   "pygments_lexer": "ipython3",
   "version": "3.9.13"
  }
 },
 "nbformat": 4,
 "nbformat_minor": 5
}
