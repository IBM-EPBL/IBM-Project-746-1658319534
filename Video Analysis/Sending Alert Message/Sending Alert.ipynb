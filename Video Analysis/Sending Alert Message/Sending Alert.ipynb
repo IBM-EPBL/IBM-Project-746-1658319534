{
 "cells": [
  {
   "cell_type": "code",
   "execution_count": 12,
   "id": "d6b0c1e9",
   "metadata": {},
   "outputs": [],
   "source": [
    "#import opencv librariy\n",
    "import cv2\n",
    "#import numpy\n",
    "import numpy as np\n",
    "#import image function from keras\n",
    "from tensorflow.keras.preprocessing import image\n",
    "#import load_model from keras\n",
    "from keras.models import load_model\n",
    "#import client from twilio API\n",
    "from twilio.rest import Client\n",
    "#imort playsound package\n",
    "from playsound import playsound\n",
    "\n"
   ]
  },
  {
   "cell_type": "code",
   "execution_count": 2,
   "id": "d5f1ee22",
   "metadata": {},
   "outputs": [],
   "source": [
    "#load the saved model\n",
    "model = load_model(r'forest2.h5')\n",
    "#define video\n",
    "video = cv2.VideoCapture(r'C:\\Users\\harik\\Downloads\\pexels-arnav-kainthola-7543653.mp4')\n",
    "#define the features\n",
    "name = {0:'forest',1:'with forest fire'}\n"
   ]
  },
  {
   "cell_type": "code",
   "execution_count": 28,
   "id": "8362ca0e",
   "metadata": {},
   "outputs": [
    {
     "name": "stdout",
     "output_type": "stream",
     "text": [
      "Requirement already satisfied: twilio in c:\\users\\harik\\anaconda3\\lib\\site-packages (7.15.2)\n",
      "Requirement already satisfied: requests>=2.0.0 in c:\\users\\harik\\anaconda3\\lib\\site-packages (from twilio) (2.28.1)\n",
      "Requirement already satisfied: PyJWT<3.0.0,>=2.0.0 in c:\\users\\harik\\anaconda3\\lib\\site-packages (from twilio) (2.4.0)\n",
      "Requirement already satisfied: pytz in c:\\users\\harik\\anaconda3\\lib\\site-packages (from twilio) (2022.1)\n",
      "Requirement already satisfied: idna<4,>=2.5 in c:\\users\\harik\\anaconda3\\lib\\site-packages (from requests>=2.0.0->twilio) (3.3)\n",
      "Requirement already satisfied: certifi>=2017.4.17 in c:\\users\\harik\\anaconda3\\lib\\site-packages (from requests>=2.0.0->twilio) (2022.9.24)\n",
      "Requirement already satisfied: charset-normalizer<3,>=2 in c:\\users\\harik\\anaconda3\\lib\\site-packages (from requests>=2.0.0->twilio) (2.0.4)\n",
      "Requirement already satisfied: urllib3<1.27,>=1.21.1 in c:\\users\\harik\\anaconda3\\lib\\site-packages (from requests>=2.0.0->twilio) (1.26.11)\n",
      "Note: you may need to restart the kernel to use updated packages.\n"
     ]
    }
   ],
   "source": [
    "pip install twilio\n"
   ]
  },
  {
   "cell_type": "code",
   "execution_count": 57,
   "id": "3378356e",
   "metadata": {
    "scrolled": false
   },
   "outputs": [
    {
     "name": "stdout",
     "output_type": "stream",
     "text": [
      "1/1 [==============================] - 0s 46ms/step\n",
      "[[1.]]\n",
      "fire\n",
      "1\n"
     ]
    },
    {
     "name": "stderr",
     "output_type": "stream",
     "text": [
      "\n",
      "    Error 305 for command:\n",
      "        open \"C:\\Users\\harik\\AppData\\Local\\Temp\\PSdb59imnd.mp3\"\n",
      "    Cannot specify extra characters after a string enclosed in quotation marks.\n",
      "\n",
      "    Error 305 for command:\n",
      "        close \"C:\\Users\\harik\\AppData\\Local\\Temp\\PSdb59imnd.mp3\"\n",
      "    Cannot specify extra characters after a string enclosed in quotation marks.\n",
      "Failed to close the file: \"C:\\Users\\harik\\AppData\\Local\\Temp\\PSdb59imnd.mp3\"\n"
     ]
    },
    {
     "name": "stdout",
     "output_type": "stream",
     "text": [
      "SM01683b2eb4fb40c115a7aa3ea4c90c24\n",
      "Fire detected\n",
      "SMS SENT !!!\n"
     ]
    },
    {
     "ename": "PlaysoundException",
     "evalue": "\n    Error 305 for command:\n        open \"C:\\Users\\harik\\AppData\\Local\\Temp\\PSdb59imnd.mp3\"\n    Cannot specify extra characters after a string enclosed in quotation marks.",
     "output_type": "error",
     "traceback": [
      "\u001b[1;31m---------------------------------------------------------------------------\u001b[0m",
      "\u001b[1;31mPlaysoundException\u001b[0m                        Traceback (most recent call last)",
      "Cell \u001b[1;32mIn [57], line 23\u001b[0m\n\u001b[0;32m     21\u001b[0m     \u001b[38;5;28mprint\u001b[39m(\u001b[38;5;124m\"\u001b[39m\u001b[38;5;124mFire detected\u001b[39m\u001b[38;5;124m\"\u001b[39m)\n\u001b[0;32m     22\u001b[0m     \u001b[38;5;28mprint\u001b[39m(\u001b[38;5;124m\"\u001b[39m\u001b[38;5;124mSMS SENT !!!\u001b[39m\u001b[38;5;124m\"\u001b[39m)\n\u001b[1;32m---> 23\u001b[0m     \u001b[43mplaysound\u001b[49m\u001b[43m(\u001b[49m\u001b[38;5;124;43mr\u001b[39;49m\u001b[38;5;124;43m'\u001b[39;49m\u001b[38;5;124;43mC:/Users/harik/Forest Fire/Siren.mp3\u001b[39;49m\u001b[38;5;124;43m'\u001b[39;49m\u001b[43m)\u001b[49m\n\u001b[0;32m     26\u001b[0m \u001b[38;5;28;01melse\u001b[39;00m:\n\u001b[0;32m     27\u001b[0m     \u001b[38;5;28mprint\u001b[39m(\u001b[38;5;124m\"\u001b[39m\u001b[38;5;124mNo danger\u001b[39m\u001b[38;5;124m\"\u001b[39m)\n",
      "File \u001b[1;32m~\\anaconda3\\lib\\site-packages\\playsound.py:44\u001b[0m, in \u001b[0;36m_playsoundWin\u001b[1;34m(sound, block)\u001b[0m\n\u001b[0;32m     42\u001b[0m close(fd)  \u001b[38;5;66;03m# mkstemp opens the file, but it must be closed before MCI can open it.\u001b[39;00m\n\u001b[0;32m     43\u001b[0m \u001b[38;5;28;01mtry\u001b[39;00m:\n\u001b[1;32m---> 44\u001b[0m     \u001b[43m_playsoundWin\u001b[49m\u001b[43m(\u001b[49m\u001b[43mtempPath\u001b[49m\u001b[43m,\u001b[49m\u001b[43m \u001b[49m\u001b[43mblock\u001b[49m\u001b[43m)\u001b[49m\n\u001b[0;32m     45\u001b[0m \u001b[38;5;28;01mfinally\u001b[39;00m:\n\u001b[0;32m     46\u001b[0m     remove(tempPath)\n",
      "File \u001b[1;32m~\\anaconda3\\lib\\site-packages\\playsound.py:72\u001b[0m, in \u001b[0;36m_playsoundWin\u001b[1;34m(sound, block)\u001b[0m\n\u001b[0;32m     70\u001b[0m \u001b[38;5;28;01mtry\u001b[39;00m:\n\u001b[0;32m     71\u001b[0m     logger\u001b[38;5;241m.\u001b[39mdebug(\u001b[38;5;124m'\u001b[39m\u001b[38;5;124mStarting\u001b[39m\u001b[38;5;124m'\u001b[39m)\n\u001b[1;32m---> 72\u001b[0m     \u001b[43mwinCommand\u001b[49m\u001b[43m(\u001b[49m\u001b[38;5;124;43mu\u001b[39;49m\u001b[38;5;124;43m'\u001b[39;49m\u001b[38;5;124;43mopen \u001b[39;49m\u001b[38;5;132;43;01m{}\u001b[39;49;00m\u001b[38;5;124;43m'\u001b[39;49m\u001b[38;5;241;43m.\u001b[39;49m\u001b[43mformat\u001b[49m\u001b[43m(\u001b[49m\u001b[43msound\u001b[49m\u001b[43m)\u001b[49m\u001b[43m)\u001b[49m\n\u001b[0;32m     73\u001b[0m     winCommand(\u001b[38;5;124mu\u001b[39m\u001b[38;5;124m'\u001b[39m\u001b[38;5;124mplay \u001b[39m\u001b[38;5;132;01m{}\u001b[39;00m\u001b[38;5;132;01m{}\u001b[39;00m\u001b[38;5;124m'\u001b[39m\u001b[38;5;241m.\u001b[39mformat(sound, \u001b[38;5;124m'\u001b[39m\u001b[38;5;124m wait\u001b[39m\u001b[38;5;124m'\u001b[39m \u001b[38;5;28;01mif\u001b[39;00m block \u001b[38;5;28;01melse\u001b[39;00m \u001b[38;5;124m'\u001b[39m\u001b[38;5;124m'\u001b[39m))\n\u001b[0;32m     74\u001b[0m     logger\u001b[38;5;241m.\u001b[39mdebug(\u001b[38;5;124m'\u001b[39m\u001b[38;5;124mReturning\u001b[39m\u001b[38;5;124m'\u001b[39m)\n",
      "File \u001b[1;32m~\\anaconda3\\lib\\site-packages\\playsound.py:64\u001b[0m, in \u001b[0;36m_playsoundWin.<locals>.winCommand\u001b[1;34m(*command)\u001b[0m\n\u001b[0;32m     60\u001b[0m     exceptionMessage \u001b[38;5;241m=\u001b[39m (\u001b[38;5;124m'\u001b[39m\u001b[38;5;130;01m\\n\u001b[39;00m\u001b[38;5;124m    Error \u001b[39m\u001b[38;5;124m'\u001b[39m \u001b[38;5;241m+\u001b[39m \u001b[38;5;28mstr\u001b[39m(errorCode) \u001b[38;5;241m+\u001b[39m \u001b[38;5;124m'\u001b[39m\u001b[38;5;124m for command:\u001b[39m\u001b[38;5;124m'\u001b[39m\n\u001b[0;32m     61\u001b[0m                         \u001b[38;5;124m'\u001b[39m\u001b[38;5;130;01m\\n\u001b[39;00m\u001b[38;5;124m        \u001b[39m\u001b[38;5;124m'\u001b[39m \u001b[38;5;241m+\u001b[39m command\u001b[38;5;241m.\u001b[39mdecode(\u001b[38;5;124m'\u001b[39m\u001b[38;5;124mutf-16\u001b[39m\u001b[38;5;124m'\u001b[39m) \u001b[38;5;241m+\u001b[39m\n\u001b[0;32m     62\u001b[0m                         \u001b[38;5;124m'\u001b[39m\u001b[38;5;130;01m\\n\u001b[39;00m\u001b[38;5;124m    \u001b[39m\u001b[38;5;124m'\u001b[39m \u001b[38;5;241m+\u001b[39m errorBuffer\u001b[38;5;241m.\u001b[39mraw\u001b[38;5;241m.\u001b[39mdecode(\u001b[38;5;124m'\u001b[39m\u001b[38;5;124mutf-16\u001b[39m\u001b[38;5;124m'\u001b[39m)\u001b[38;5;241m.\u001b[39mrstrip(\u001b[38;5;124m'\u001b[39m\u001b[38;5;130;01m\\0\u001b[39;00m\u001b[38;5;124m'\u001b[39m))\n\u001b[0;32m     63\u001b[0m     logger\u001b[38;5;241m.\u001b[39merror(exceptionMessage)\n\u001b[1;32m---> 64\u001b[0m     \u001b[38;5;28;01mraise\u001b[39;00m PlaysoundException(exceptionMessage)\n\u001b[0;32m     65\u001b[0m \u001b[38;5;28;01mreturn\u001b[39;00m buf\u001b[38;5;241m.\u001b[39mvalue\n",
      "\u001b[1;31mPlaysoundException\u001b[0m: \n    Error 305 for command:\n        open \"C:\\Users\\harik\\AppData\\Local\\Temp\\PSdb59imnd.mp3\"\n    Cannot specify extra characters after a string enclosed in quotation marks."
     ]
    }
   ],
   "source": [
    "while(1):\n",
    "    success,frame=video.read()\n",
    "    cv2.imwrite(\"image.jpg\",frame)\n",
    "    img=image.load_img(\"image.jpg\",target_size=(128,128))\n",
    "    x=image.img_to_array(img)\n",
    "    x=np.expand_dims(x,axis=0)\n",
    "    pred=model.predict(x)\n",
    "    #np.argmax(model.predict(x), axis=-1)\n",
    "    p=pred[0]\n",
    "    print(pred)\n",
    "    if p==1:\n",
    "        print(\"fire\")\n",
    "    print(int(p))\n",
    "    cv2.putText(frame,\"predict class=\"+ str(name[int(p)]),(100,100),cv2.FONT_HERSHEY_SIMPLEX,1,(0,0,0),1)\n",
    "    if pred[0]==1:\n",
    "        account_sid=\"AC597540e2b070fb3b25d0b1d797290dd3\"\n",
    "        auth_token=\"b0f4063601f028b2022b427ee5606e0d\"\n",
    "        client=Client(account_sid,auth_token)\n",
    "        message=client.messages.create(body=\"forest fire detected,stay alert RA PUNDA\",from_='+13396751336',to='+919677689130')\n",
    "        print(message.sid)\n",
    "        print(\"Fire detected\")\n",
    "        print(\"SMS SENT !!!\")\n",
    "        playsound(r'C:/Users/harik/Forest Fire/Siren.mp3')\n",
    "        \n",
    "        \n",
    "    else:\n",
    "        print(\"No danger\")\n",
    "    cv2.imshow('image',frame)\n",
    "    if cv2.waitkey(1) & 0xFF ==ord('a'):\n",
    "        break\n",
    "video.release()\n",
    "cv2.destroyAllWindows()"
   ]
  },
  {
   "cell_type": "code",
   "execution_count": null,
   "id": "6940cf45",
   "metadata": {},
   "outputs": [],
   "source": []
  }
 ],
 "metadata": {
  "kernelspec": {
   "display_name": "Python 3 (ipykernel)",
   "language": "python",
   "name": "python3"
  },
  "language_info": {
   "codemirror_mode": {
    "name": "ipython",
    "version": 3
   },
   "file_extension": ".py",
   "mimetype": "text/x-python",
   "name": "python",
   "nbconvert_exporter": "python",
   "pygments_lexer": "ipython3",
   "version": "3.9.13"
  }
 },
 "nbformat": 4,
 "nbformat_minor": 5
}
